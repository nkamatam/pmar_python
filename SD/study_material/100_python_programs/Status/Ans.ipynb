{
 "cells": [
  {
   "cell_type": "code",
   "execution_count": null,
   "metadata": {},
   "outputs": [],
   "source": [
    "Day1:\n",
    "    > ***Write a program which will find all such numbers which are divisible by 7 but are not a multiple of 5,\n",
    "between 2000 and 3200 (both included).The numbers obtained should be printed in a comma-separated sequence on a single line.***\n"
   ]
  },
  {
   "cell_type": "code",
   "execution_count": 8,
   "metadata": {},
   "outputs": [
    {
     "name": "stdout",
     "output_type": "stream",
     "text": [
      "2002,2009,2016,2023,2037,2044,2051,2058,2072,2079,2086,2093,2107,2114,2121,2128,2142,2149,2156,2163,2177,2184,2191,2198,2212,2219,2226,2233,2247,2254,2261,2268,2282,2289,2296,2303,2317,2324,2331,2338,2352,2359,2366,2373,2387,2394,2401,2408,2422,2429,2436,2443,2457,2464,2471,2478,2492,2499,2506,2513,2527,2534,2541,2548,2562,2569,2576,2583,2597,2604,2611,2618,2632,2639,2646,2653,2667,2674,2681,2688,2702,2709,2716,2723,2737,2744,2751,2758,2772,2779,2786,2793,2807,2814,2821,2828,2842,2849,2856,2863,2877,2884,2891,2898,2912,2919,2926,2933,2947,2954,2961,2968,2982,2989,2996,3003,3017,3024,3031,3038,3052,3059,3066,3073,3087,3094,3101,3108,3122,3129,3136,3143,3157,3164,3171,3178,3192,3199,"
     ]
    }
   ],
   "source": [
    "for i in range(2000,3200+1):\n",
    "    if i%7==0 and i%5 != 0:\n",
    "        print(i,end=\",\")\n"
   ]
  },
  {
   "cell_type": "code",
   "execution_count": 11,
   "metadata": {},
   "outputs": [
    {
     "name": "stdout",
     "output_type": "stream",
     "text": [
      "2002,2009,2016,2023,2037,2044,2051,2058,2072,2079,2086,2093,2107,2114,2121,2128,2142,2149,2156,2163,2177,2184,2191,2198,2212,2219,2226,2233,2247,2254,2261,2268,2282,2289,2296,2303,2317,2324,2331,2338,2352,2359,2366,2373,2387,2394,2401,2408,2422,2429,2436,2443,2457,2464,2471,2478,2492,2499,2506,2513,2527,2534,2541,2548,2562,2569,2576,2583,2597,2604,2611,2618,2632,2639,2646,2653,2667,2674,2681,2688,2702,2709,2716,2723,2737,2744,2751,2758,2772,2779,2786,2793,2807,2814,2821,2828,2842,2849,2856,2863,2877,2884,2891,2898,2912,2919,2926,2933,2947,2954,2961,2968,2982,2989,2996,3003,3017,3024,3031,3038,3052,3059,3066,3073,3087,3094,3101,3108,3122,3129,3136,3143,3157,3164,3171,3178,3192,3199\n"
     ]
    }
   ],
   "source": [
    "l=[]\n",
    "for i in range(2000, 3201):\n",
    "    if (i%7==0) and (i%5!=0):\n",
    "        l.append(str(i))\n",
    "\n",
    "print (','.join(l))"
   ]
  },
  {
   "cell_type": "raw",
   "metadata": {},
   "source": [
    "# Question 2\n",
    "\n",
    "### **Question:**\n",
    "\n",
    "> ***Write a program which can compute the factorial of a given numbers.The results should be printed in a comma-separated sequence on a single line.Suppose the following input is supplied to the program: 8\n",
    "Then, the output should be:40320***"
   ]
  },
  {
   "cell_type": "code",
   "execution_count": 1,
   "metadata": {},
   "outputs": [
    {
     "name": "stdin",
     "output_type": "stream",
     "text": [
      " 1\n"
     ]
    },
    {
     "name": "stdout",
     "output_type": "stream",
     "text": [
      "1\n"
     ]
    }
   ],
   "source": [
    "x=int(input())\n",
    "y=1\n",
    "for i in range(1,x+1):\n",
    "    y=y*i\n",
    "print(y)"
   ]
  },
  {
   "cell_type": "code",
   "execution_count": 3,
   "metadata": {},
   "outputs": [
    {
     "name": "stdin",
     "output_type": "stream",
     "text": [
      " 8\n"
     ]
    },
    {
     "name": "stdout",
     "output_type": "stream",
     "text": [
      "40320\n"
     ]
    }
   ],
   "source": [
    "x=int(input())\n",
    "y=1\n",
    "i=1\n",
    "while i<=8:\n",
    "    y=y*i\n",
    "    i=i+1\n",
    "print(y)"
   ]
  },
  {
   "cell_type": "code",
   "execution_count": null,
   "metadata": {},
   "outputs": [],
   "source": [
    "# Question 3\n",
    "\n",
    "### **Question:**\n",
    "\n",
    ">***With a given integral number n, write a program to generate a dictionary that contains (i, i x i) \n",
    "such that is an integral number between 1 and n (both included). and then the program should print the dictionary.\n",
    "Suppose the following input is supplied to the program: 8***"
   ]
  },
  {
   "cell_type": "code",
   "execution_count": 8,
   "metadata": {},
   "outputs": [
    {
     "name": "stdin",
     "output_type": "stream",
     "text": [
      " 3\n"
     ]
    },
    {
     "name": "stdout",
     "output_type": "stream",
     "text": [
      "{1: 1, 2: 4, 3: 9}\n"
     ]
    }
   ],
   "source": [
    "x= int(input())\n",
    "a={}\n",
    "for i in range(1,x+1):\n",
    "    a[i]=i*i\n",
    "    \n",
    "print(a)"
   ]
  },
  {
   "cell_type": "code",
   "execution_count": null,
   "metadata": {},
   "outputs": [],
   "source": [
    "day2"
   ]
  },
  {
   "cell_type": "code",
   "execution_count": null,
   "metadata": {},
   "outputs": [],
   "source": [
    ">***Write a program which accepts a sequence of comma-separated numbers from console and generate a list and\n",
    "a tuple which contains every number.Suppose the following input is supplied to the program:***\n"
   ]
  },
  {
   "cell_type": "code",
   "execution_count": 11,
   "metadata": {},
   "outputs": [
    {
     "name": "stdin",
     "output_type": "stream",
     "text": [
      " 1,1,2,3,4,5\n"
     ]
    },
    {
     "name": "stdout",
     "output_type": "stream",
     "text": [
      "['1', '1', '2', '3', '4', '5']\n"
     ]
    }
   ],
   "source": [
    "a=input().split(\",\")\n",
    "print(a)"
   ]
  },
  {
   "cell_type": "code",
   "execution_count": null,
   "metadata": {},
   "outputs": [],
   "source": [
    "\n",
    ">***Write a program that calculates and prints the value according to the given formula:***\n",
    "\n",
    ">***Q = Square root of [(2 * C * D)/H]***\n",
    "\n",
    ">***Following are the fixed values of C and H:***\n",
    "\n",
    ">***C is 50. H is 30.***\n",
    "\n",
    ">***D is the variable whose values should be input to your program in a comma-separated sequence.For example\n",
    "Let us assume the following comma separated input sequence is given to the program:***\n",
    "```\n",
    "100,150,180\n",
    "```\n",
    ">***The output of the program should be:***\n",
    "```\n",
    "18,22,24\n",
    "```"
   ]
  },
  {
   "cell_type": "code",
   "execution_count": 17,
   "metadata": {},
   "outputs": [
    {
     "name": "stdin",
     "output_type": "stream",
     "text": [
      " 3,8\n"
     ]
    },
    {
     "name": "stdout",
     "output_type": "stream",
     "text": [
      "[3, 5]\n"
     ]
    }
   ],
   "source": [
    "d=input().split(\",\")\n",
    "c=50\n",
    "h=30\n",
    "output=[]\n",
    "for item in d:\n",
    "    q=int((2*c*int(item)/h)**(1/2))\n",
    "    output.append(q)\n",
    "print(output)"
   ]
  },
  {
   "cell_type": "code",
   "execution_count": 5,
   "metadata": {},
   "outputs": [
    {
     "name": "stdin",
     "output_type": "stream",
     "text": [
      " 1,2\n"
     ]
    },
    {
     "data": {
      "text/plain": [
       "list"
      ]
     },
     "execution_count": 5,
     "metadata": {},
     "output_type": "execute_result"
    }
   ],
   "source": [
    "d=input().split(\",\")\n",
    "type(d)"
   ]
  },
  {
   "cell_type": "code",
   "execution_count": null,
   "metadata": {},
   "outputs": [],
   "source": [
    "# Question 8\n",
    "\n",
    "### **Question:**\n",
    "\n",
    ">***Write a program that accepts a comma separated sequence of words as input and prints the words in a \n",
    "comma-separated sequence after sorting them alphabetically.***\n",
    "\n",
    ">***Suppose the following input is supplied to the program:***\n",
    "```\n",
    "without,hello,bag,world\n",
    "```\n",
    ">***Then, the output should be:***\n",
    "```\n",
    "bag,hello,without,world\n",
    "```"
   ]
  },
  {
   "cell_type": "code",
   "execution_count": 6,
   "metadata": {},
   "outputs": [
    {
     "name": "stdin",
     "output_type": "stream",
     "text": [
      " d,e,e,p,a,n\n"
     ]
    },
    {
     "name": "stdout",
     "output_type": "stream",
     "text": [
      "['a', 'd', 'e', 'e', 'n', 'p']\n"
     ]
    }
   ],
   "source": [
    "a=input().split(',')\n",
    "a.sort()\n",
    "print(a)"
   ]
  },
  {
   "cell_type": "code",
   "execution_count": 9,
   "metadata": {},
   "outputs": [
    {
     "name": "stdin",
     "output_type": "stream",
     "text": [
      " deepan\n"
     ]
    },
    {
     "name": "stdout",
     "output_type": "stream",
     "text": [
      "DEEPAN\n"
     ]
    }
   ],
   "source": [
    "a=input()\n",
    "b=a.upper()\n",
    "print(b)"
   ]
  },
  {
   "cell_type": "code",
   "execution_count": 3,
   "metadata": {},
   "outputs": [
    {
     "name": "stdin",
     "output_type": "stream",
     "text": [
      " Deepan S\n"
     ]
    },
    {
     "name": "stdout",
     "output_type": "stream",
     "text": [
      "lower=  5 upper=  2\n"
     ]
    }
   ],
   "source": [
    "a=input()\n",
    "upper,lower=0,0\n",
    "for i in a:\n",
    "    if (i>=\"a\" and i<=\"z\"):\n",
    "        lower=lower+1\n",
    "    elif (i>=\"A\" and i<= \"Z\"):\n",
    "        upper=upper+1\n",
    "print('lower= ',lower,'upper= ',upper)"
   ]
  },
  {
   "cell_type": "markdown",
   "metadata": {},
   "source": [
    "# Question 13\n",
    "\n",
    "### **Question:**\n",
    "\n",
    ">***Write a program that accepts a sentence and calculate the number of letters and digits.***\n",
    "\n",
    ">***Suppose the following input is supplied to the program:***\n",
    "\n",
    "```\n",
    "hello world! 123\n",
    "```\n",
    "\n",
    ">***Then, the output should be:***\n",
    "```\n",
    "LETTERS 10\n",
    "DIGITS 3\n",
    "```"
   ]
  },
  {
   "cell_type": "code",
   "execution_count": null,
   "metadata": {},
   "outputs": [],
   "source": [
    "myword = input()\n",
    "letter,digit,other = 0,0,0\n",
    "for i in myword:\n",
    "    if ('a'<=i and i<='z') or ('A'<=i and i<='Z'):\n",
    "        letter=letter+1\n",
    "    elif '0'<=i and i<='9':\n",
    "        digit=digit+1\n",
    "    elif i!=\" \":\n",
    "        other=other+1\n",
    "print(\"Number of digit:\",digit, \"Number of letter:\",letter,\"Other character:\", other)\n"
   ]
  },
  {
   "cell_type": "code",
   "execution_count": null,
   "metadata": {},
   "outputs": [],
   "source": [
    "# Question 15\n",
    "\n",
    "### **Question:**\n",
    "\n",
    ">***Write a program that computes the value of a+aa+aaa+aaaa with a given digit as the value of a.***\n",
    "\n",
    ">***Suppose the following input is supplied to the program:***\n",
    "\n",
    "```\n",
    "9\n",
    "```\n",
    "\n",
    ">***Then, the output should be:***\n",
    "```\n",
    "11106\n",
    "```\n"
   ]
  },
  {
   "cell_type": "code",
   "execution_count": 7,
   "metadata": {},
   "outputs": [
    {
     "name": "stdin",
     "output_type": "stream",
     "text": [
      " 9\n"
     ]
    },
    {
     "name": "stdout",
     "output_type": "stream",
     "text": [
      "11106\n"
     ]
    }
   ],
   "source": [
    "a=input()\n",
    "b=\"\"\n",
    "c=0\n",
    "for i in range(1,4+1):\n",
    "    b=b+a\n",
    "    c=c+int(b)\n",
    "print(c)"
   ]
  },
  {
   "cell_type": "markdown",
   "metadata": {},
   "source": [
    "# Question 16\n",
    "\n",
    "### **Question:**\n",
    "\n",
    ">***Use a list comprehension to square each odd number in a list. The list is input by a sequence of comma-separated numbers.***\n",
    ">***Suppose the following input is supplied to the program:***\n",
    "\n",
    "```\n",
    "1,2,3,4,5,6,7,8,9\n",
    "```\n",
    "\n",
    ">***Then, the output should be:***\n",
    "\n",
    "```\n",
    "1,9,25,49,81\n",
    "```\n",
    "\n",
    "----------------------\n",
    "\n",
    "### Hints:\n",
    ">***In case of input data being supplied to the question, it should be assumed to be a console input.***\n"
   ]
  },
  {
   "cell_type": "code",
   "execution_count": 18,
   "metadata": {},
   "outputs": [
    {
     "name": "stdin",
     "output_type": "stream",
     "text": [
      " 1,2,3,4,5,6,7,8,9\n"
     ]
    },
    {
     "name": "stdout",
     "output_type": "stream",
     "text": [
      "[1, 9, 25, 49, 81]\n"
     ]
    }
   ],
   "source": [
    "ip_list=input().split(',')\n",
    "op_list=[]\n",
    "for item in ip_list:\n",
    "    if (int(item)%2!=0):\n",
    "        op_list.append(int(item)*int(item))\n",
    "print(op_list)"
   ]
  },
  {
   "cell_type": "markdown",
   "metadata": {},
   "source": [
    "# Question 18\n",
    "\n",
    "### **Question:**\n",
    "\n",
    ">***A website requires the users to input username and password to register. Write a program to check the validity of password input by users.***\n",
    "\n",
    ">***Following are the criteria for checking the password:***\n",
    "  - ***At least 1 letter between [a-z]***\n",
    "  - ***At least 1 number between [0-9]***\n",
    "  - ***At least 1 letter between [A-Z]***\n",
    "  - ***At least 1 character from [$#@]***\n",
    "  - ***Minimum length of transaction password: 6***\n",
    "  - ***Maximum length of transaction password: 12***\n",
    "\n",
    ">***Your program should accept a sequence of comma separated passwords and will check them according to the above criteria. Passwords that match the criteria are to be printed, each separated by a comma.***\n",
    "\n",
    ">***Example***\n",
    "\n",
    ">***If the following passwords are given as input to the program:***\n",
    "```\n",
    "ABd1234@1,a F1#,2w3E*,2We3345\n",
    "```\n",
    ">***Then, the output of the program should be:***\n",
    "```\n",
    "ABd1234@1\n",
    "```"
   ]
  },
  {
   "cell_type": "code",
   "execution_count": 1,
   "metadata": {},
   "outputs": [
    {
     "name": "stdin",
     "output_type": "stream",
     "text": [
      " Deepan@\n"
     ]
    }
   ],
   "source": [
    "password=input()\n",
    "letter_cap,letter,number,special_ch=0,0,0,0\n",
    "for i in password:\n",
    "    if (i>=\"A\" and i<=\"Z\"):\n",
    "        letter_cap+=1\n",
    "    elif (i>=\"a\" and i<=\"z\"):\n",
    "        letter+=1\n",
    "    elif (i>=\"0\" and i<=\"9\"):\n",
    "        number+=1\n",
    "    elif (i==\"$\" or i==\"#\" or i==\"@\"):\n",
    "        special_ch+=1\n",
    "if (letter_cap>=1 and letter>=1 and number>=1 and special_ch>=1 and 12>=len(password)>=6):\n",
    "    print(password)\n"
   ]
  },
  {
   "cell_type": "code",
   "execution_count": 1,
   "metadata": {},
   "outputs": [
    {
     "name": "stdin",
     "output_type": "stream",
     "text": [
      " Deepan@1\n"
     ]
    },
    {
     "name": "stdout",
     "output_type": "stream",
     "text": [
      "1 5 1 1\n"
     ]
    }
   ],
   "source": [
    "password=input()\n",
    "letter_cap,letter,number,special_ch=0,0,0,0\n",
    "for i in password:\n",
    "    if (i>=\"A\" and i<=\"Z\"):\n",
    "        letter_cap+=1\n",
    "    elif (i>=\"a\" and i<=\"z\"):\n",
    "        letter+=1\n",
    "    elif (i>=\"0\" and i<=\"9\"):\n",
    "        number+=1\n",
    "    elif (i==\"$\" or i==\"#\" or i==\"@\"):\n",
    "        special_ch+=1\n",
    "print(letter_cap,letter,number,special_ch)"
   ]
  },
  {
   "cell_type": "code",
   "execution_count": null,
   "metadata": {},
   "outputs": [],
   "source": []
  }
 ],
 "metadata": {
  "kernelspec": {
   "display_name": "Python 3",
   "language": "python",
   "name": "python3"
  },
  "language_info": {
   "codemirror_mode": {
    "name": "ipython",
    "version": 3
   },
   "file_extension": ".py",
   "mimetype": "text/x-python",
   "name": "python",
   "nbconvert_exporter": "python",
   "pygments_lexer": "ipython3",
   "version": "3.7.6"
  }
 },
 "nbformat": 4,
 "nbformat_minor": 4
}
