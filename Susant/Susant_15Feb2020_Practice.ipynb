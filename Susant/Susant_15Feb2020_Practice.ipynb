{
 "cells": [
  {
   "cell_type": "code",
   "execution_count": 10,
   "metadata": {},
   "outputs": [
    {
     "name": "stdout",
     "output_type": "stream",
     "text": [
      "       *\n",
      "     *   *\n",
      "    *     *\n",
      "   *       *\n",
      "  *         *\n",
      " *           *\n",
      " *           *\n",
      "  *         *\n",
      "   *       *\n",
      "    *     *\n",
      "     *   *\n",
      "       *\n"
     ]
    }
   ],
   "source": [
    "n=6\n",
    "for i in range (0,n,1):\n",
    "    if i==0:\n",
    "        print(\" \"*(n+1)+\"*\")\n",
    "    else:\n",
    "        print(\" \"*(n-i)+\"*\"+\" \"*(2*i+1)+\"*\")\n",
    "for i in range (n,0,-1):\n",
    "    if i==1:        \n",
    "        print(\" \"*(n+1)+\"*\")\n",
    "    else:\n",
    "        print(\" \"*(n-i+1)+\"*\"+\" \"*(2*i-1)+\"*\")"
   ]
  },
  {
   "cell_type": "code",
   "execution_count": null,
   "metadata": {},
   "outputs": [],
   "source": []
  }
 ],
 "metadata": {
  "kernelspec": {
   "display_name": "Python 3",
   "language": "python",
   "name": "python3"
  },
  "language_info": {
   "codemirror_mode": {
    "name": "ipython",
    "version": 3
   },
   "file_extension": ".py",
   "mimetype": "text/x-python",
   "name": "python",
   "nbconvert_exporter": "python",
   "pygments_lexer": "ipython3",
   "version": "3.7.6"
  }
 },
 "nbformat": 4,
 "nbformat_minor": 4
}
