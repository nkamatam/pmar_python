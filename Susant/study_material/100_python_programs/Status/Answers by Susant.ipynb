{
 "cells": [
  {
   "cell_type": "raw",
   "metadata": {},
   "source": [
    "***Write a program which will find all such numbers which are divisible by 7 but are not a multiple of 5,\n",
    "between 2000 and 3200 (both included).The numbers obtained should be printed in a comma-separated sequence on a single line.***"
   ]
  },
  {
   "cell_type": "code",
   "execution_count": null,
   "metadata": {},
   "outputs": [],
   "source": [
    "list=[]\n",
    "for i in range(2000,3200):\n",
    "    if (i%7==0) and (i%5!=0):\n",
    "        list.append(i)\n",
    "print(list)        "
   ]
  },
  {
   "cell_type": "raw",
   "metadata": {},
   "source": [
    "# Question 2\n",
    "\n",
    "### **Question:**\n",
    "\n",
    "> ***Write a program which can compute the factorial of a given numbers.The results should be printed in a comma-separated sequence on a single line.Suppose the following input is supplied to the program: 8\n",
    "Then, the output should be:40320***\n"
   ]
  },
  {
   "cell_type": "code",
   "execution_count": null,
   "metadata": {},
   "outputs": [],
   "source": [
    "num=int(input(\"Enter your number\"))\n",
    "sum=1\n",
    "list=[]\n",
    "for i in range(1,num+1):    \n",
    "    sum=sum*i\n",
    "    list.append(i)\n",
    "print(list)\n",
    "print(sum)\n",
    "    "
   ]
  },
  {
   "cell_type": "raw",
   "metadata": {},
   "source": [
    "  # Question 3\n",
    "\n",
    "### **Question:**\n",
    "\n",
    ">***With a given integral number n, write a program to generate a dictionary that contains (i, i x i) such that is an integral number between 1 and n (both included). and then the program should print the dictionary.Suppose the following input is supplied to the program: 8***"
   ]
  },
  {
   "cell_type": "code",
   "execution_count": 1,
   "metadata": {},
   "outputs": [
    {
     "name": "stdin",
     "output_type": "stream",
     "text": [
      "Please enter a number: 3\n"
     ]
    },
    {
     "name": "stdout",
     "output_type": "stream",
     "text": [
      "{1: 1, 2: 4, 3: 9}\n"
     ]
    }
   ],
   "source": [
    "mydict={}\n",
    "n=int(input(\"Please enter a number:\" ))\n",
    "\n",
    "for i in range(1,n+1):\n",
    "        mydict.update({i:i*i})\n",
    "print(mydict)\n"
   ]
  },
  {
   "cell_type": "raw",
   "metadata": {},
   "source": [
    "#                                                   Day 2\n",
    "# Question 4\n",
    "\n",
    "### **Question:**\n",
    "\n",
    ">***Write a program which accepts a sequence of comma-separated numbers from console and generate a list and a tuple which contains every number.Suppose the following input is supplied to the program:***"
   ]
  },
  {
   "cell_type": "code",
   "execution_count": 2,
   "metadata": {},
   "outputs": [
    {
     "name": "stdin",
     "output_type": "stream",
     "text": [
      "Please enter comma sepated number: 1,2,3\n"
     ]
    },
    {
     "name": "stdout",
     "output_type": "stream",
     "text": [
      "['1,2,3']\n",
      "1,2,3\n"
     ]
    }
   ],
   "source": [
    "#Need to ask to KNK\n",
    "strinput=str(input(\"Please enter comma sepated number:\"))\n",
    "print([strinput])\n",
    "print((strinput))"
   ]
  },
  {
   "cell_type": "raw",
   "metadata": {},
   "source": [
    "# Question 5\n",
    "\n",
    "### **Question:**\n",
    "\n",
    ">***Define a class which has at least two methods:***\n",
    ">* ***getString: to get a string from console input*** \n",
    ">* ***printString: to print the string in upper case.*** \n",
    "\n",
    ">***Also please include simple test function to test the class methods.***\n",
    "\n",
    "### Hints:\n",
    ">***Use __init__ method to construct some parameters***"
   ]
  },
  {
   "cell_type": "code",
   "execution_count": null,
   "metadata": {},
   "outputs": [],
   "source": [
    "Q5 Doubt "
   ]
  },
  {
   "cell_type": "raw",
   "metadata": {},
   "source": [
    "# Question 6\n",
    "\n",
    "### **Question:**\n",
    "\n",
    ">***Write a program that calculates and prints the value according to the given formula:***\n",
    "\n",
    ">***Q = Square root of [(2 * C * D)/H]***\n",
    "\n",
    ">***Following are the fixed values of C and H:***\n",
    "\n",
    ">***C is 50. H is 30.***\n",
    "\n",
    ">***D is the variable whose values should be input to your program in a comma-separated sequence.For example\n",
    "Let us assume the following comma separated input sequence is given to the program:***\n",
    "```\n",
    "100,150,180\n",
    "```\n",
    ">***The output of the program should be:***\n",
    "```\n",
    "18,22,24"
   ]
  },
  {
   "cell_type": "code",
   "execution_count": 1,
   "metadata": {},
   "outputs": [
    {
     "name": "stdin",
     "output_type": "stream",
     "text": [
      "Enter your list 3,8\n"
     ]
    },
    {
     "name": "stdout",
     "output_type": "stream",
     "text": [
      "[3, 5]\n"
     ]
    }
   ],
   "source": [
    "# Q :6 Answer\n",
    "\n",
    "list=input(\"Enter your list\").split(',') \n",
    "import math\n",
    "C=50\n",
    "H=30\n",
    "new_list=[]\n",
    "for item in list:\n",
    "    num=int(math.sqrt(2*C*(int(item)/H)))\n",
    "    new_list.append(num)\n",
    "print(new_list)"
   ]
  },
  {
   "cell_type": "raw",
   "metadata": {},
   "source": [
    "# Question 7\n",
    "\n",
    "### **Question:**\n",
    "\n",
    ">***Write a program which takes 2 digits, X,Y as input and generates a 2-dimensional array. The element value in the i-th row and j-th column of the array should be i * j.***\n",
    "\n",
    ">***Note: i=0,1.., X-1; j=0,1,¡­Y-1. Suppose the following inputs are given to the program: 3,5***\n",
    "\n",
    ">***Then, the output of the program should be:***\n",
    "```\n",
    "[[0, 0, 0, 0, 0], [0, 1, 2, 3, 4], [0, 2, 4, 6, 8]]\n"
   ]
  },
  {
   "cell_type": "raw",
   "metadata": {},
   "source": [
    "# Question 8\n",
    "\n",
    "### **Question:**\n",
    "\n",
    ">***Write a program that accepts a comma separated sequence of words as input and prints the words in a comma-separated sequence after sorting them alphabetically.***\n",
    "\n",
    ">***Suppose the following input is supplied to the program:***\n",
    "```\n",
    "without,hello,bag,world\n",
    "```\n",
    ">***Then, the output should be:***\n",
    "```\n",
    "bag,hello,without,world\n",
    "```"
   ]
  },
  {
   "cell_type": "code",
   "execution_count": null,
   "metadata": {},
   "outputs": [],
   "source": [
    "#Ans Q 8\n",
    "list=[input(\"Please enter comma separated sequence of word\")]\n",
    "sort_list=sorted(list)\n",
    "\n",
    "print(sort_list)"
   ]
  },
  {
   "cell_type": "raw",
   "metadata": {},
   "source": [
    "\n",
    "                                                 #Day 3\n",
    "# Question 10\n",
    "\n",
    "### **Question**\n",
    ">***Write a program that accepts a sequence of whitespace separated words as input and prints the words after removing all duplicate words and sorting them alphanumerically.***\n",
    "\n",
    ">***Suppose the following input is supplied to the program:***\n",
    "```\n",
    "hello world and practice makes perfect and hello world again\n",
    "```\n",
    ">***Then, the output should be:***\n",
    "```\n",
    "again and hello makes perfect practice world`\n",
    "\n",
    "----------------------\n"
   ]
  },
  {
   "cell_type": "code",
   "execution_count": null,
   "metadata": {},
   "outputs": [],
   "source": [
    "mylist=input(\"Enter your text\").split(\" \")\n",
    "\n",
    "for item in mylist:\n",
    "    if mylist.count(item)>0:\n",
    "        mylist.remove(item)\n",
    "mylist.sort()\n",
    "print(mylist)\n"
   ]
  },
  {
   "cell_type": "raw",
   "metadata": {},
   "source": [
    "# Question 11\n",
    "\n",
    "### **Question**\n",
    "\n",
    ">***Write a program which accepts a sequence of comma separated 4 digit binary numbers as its input and then check whether they are divisible by 5 or not. The numbers that are divisible by 5 are to be printed in a comma separated sequence.***\n",
    "\n",
    ">***Example:***\n",
    "```\n",
    "0100,0011,1010,1001\n",
    "```\n",
    ">***Then the output should be:***\n",
    "```\n",
    "1010\n",
    "```\n",
    ">***Notes: Assume the data is input by console.***"
   ]
  },
  {
   "cell_type": "code",
   "execution_count": 5,
   "metadata": {},
   "outputs": [
    {
     "name": "stdin",
     "output_type": "stream",
     "text": [
      "Enter your text 1000,1001\n"
     ]
    },
    {
     "name": "stdout",
     "output_type": "stream",
     "text": [
      "['1000']\n"
     ]
    }
   ],
   "source": [
    "mylist=input(\"Enter your text\").split(\",\")\n",
    "newlist=[]\n",
    "for item in mylist:    \n",
    "    if int(item)%5==0 and len(str(int(item)))==4:\n",
    "        newlist.append(item)\n",
    "print(newlist)"
   ]
  },
  {
   "cell_type": "raw",
   "metadata": {},
   "source": [
    "# Question 12\n",
    "\n",
    "### **Question:**\n",
    "\n",
    ">***Write a program, which will find all such numbers between 1000 and 3000 (both included) such that each digit of the number is an even number.The numbers obtained should be printed in a comma-separated sequence on a single line.***\n"
   ]
  },
  {
   "cell_type": "code",
   "execution_count": null,
   "metadata": {},
   "outputs": [],
   "source": [
    "mylist=[]\n",
    "for i in range(1000,3001):\n",
    "    if i%2==0:\n",
    "        mylist.append(i)\n",
    "print(mylist)\n",
    "#print \",\".join(mylist)\n"
   ]
  },
  {
   "cell_type": "raw",
   "metadata": {},
   "source": [
    "# Question 13\n",
    "\n",
    "### **Question:**\n",
    "\n",
    ">***Write a program that accepts a sentence and calculate the number of letters and digits.***\n",
    "\n",
    ">***Suppose the following input is supplied to the program:***\n",
    "\n",
    "```\n",
    "hello world! 123\n",
    "```\n",
    "\n",
    ">***Then, the output should be:***\n",
    "```\n",
    "LETTERS 10\n",
    "DIGITS 3\n",
    "```"
   ]
  },
  {
   "cell_type": "code",
   "execution_count": null,
   "metadata": {},
   "outputs": [],
   "source": [
    "myword = input()\n",
    "letter,digit,other = 0,0,0\n",
    "for i in myword:\n",
    "    if ('a'<=i and i<='z') or ('A'<=i and i<='Z'):\n",
    "        letter=letter+1\n",
    "    elif '0'<=i and i<='9':\n",
    "        digit=digit+1\n",
    "    elif i!=\" \":\n",
    "        other=other+1\n",
    "print(\"Number of digit:\",digit, \"Number of letter:\",letter,\"Other character:\", other)\n"
   ]
  },
  {
   "cell_type": "raw",
   "metadata": {},
   "source": [
    "#Day 4\n",
    "\n",
    "# Question 14\n",
    "\n",
    "### **Question:**\n",
    "\n",
    ">***Write a program that accepts a sentence and calculate the number of upper case letters and lower case letters.***\n",
    "\n",
    ">***Suppose the following input is supplied to the program:***\n",
    "```\n",
    "Hello world!\n",
    "```\n",
    ">***Then, the output should be:***\n",
    "```\n",
    "UPPER CASE 1\n",
    "LOWER CASE 9"
   ]
  },
  {
   "cell_type": "code",
   "execution_count": null,
   "metadata": {},
   "outputs": [],
   "source": [
    "# Needs to ask KNK******************************************************************\n",
    "sentence=input(\"Please enter a sentence:\").split()\n",
    "l_count,u_count=0,0\n",
    "print(sentence)\n",
    "for item in sentence:\n",
    "    if 'A'<=item or 'Z'<=item:\n",
    "        u_count=u_count+1\n",
    "    elif 'a'<=item or 'z'<=item:\n",
    "        l_count=l_count+1\n",
    "print(\"UPPER CASE\",u_count,\"LOWER CASE\",l_count)"
   ]
  },
  {
   "cell_type": "raw",
   "metadata": {},
   "source": [
    "# Needs to ask KNK******************************************************************\n",
    "# Question 15\n",
    "\n",
    "### **Question:**\n",
    "\n",
    ">***Write a program that computes the value of a+aa+aaa+aaaa with a given digit as the value of a.***\n",
    "\n",
    ">***Suppose the following input is supplied to the program:***\n",
    "\n",
    "```\n",
    "9\n",
    "```\n",
    "\n",
    ">***Then, the output should be:***\n",
    "```\n",
    "11106"
   ]
  },
  {
   "cell_type": "raw",
   "metadata": {},
   "source": [
    "#Day 5\n",
    "\n",
    "# Question 16\n",
    "\n",
    "### **Question:**\n",
    "\n",
    ">***Use a list comprehension to square each odd number in a list. The list is input by a sequence of comma-separated numbers.***\n",
    ">***Suppose the following input is supplied to the program:***\n",
    "\n",
    "```\n",
    "1,2,3,4,5,6,7,8,9\n",
    "```\n",
    "\n",
    ">***Then, the output should be:***\n",
    "\n",
    "```\n",
    "1,9,25,49,81"
   ]
  },
  {
   "cell_type": "code",
   "execution_count": null,
   "metadata": {},
   "outputs": [],
   "source": [
    "lst=input(\"Enter comma separated numbers:\").split(\",\")\n",
    "mylist=[]\n",
    "for i in lst:\n",
    "    if (int(i)%2)!=0:\n",
    "        mylist.append(int(i)**2)\n",
    "print (mylist)"
   ]
  },
  {
   "cell_type": "code",
   "execution_count": null,
   "metadata": {},
   "outputs": [],
   "source": []
  }
 ],
 "metadata": {
  "kernelspec": {
   "display_name": "Python 3",
   "language": "python",
   "name": "python3"
  },
  "language_info": {
   "codemirror_mode": {
    "name": "ipython",
    "version": 3
   },
   "file_extension": ".py",
   "mimetype": "text/x-python",
   "name": "python",
   "nbconvert_exporter": "python",
   "pygments_lexer": "ipython3",
   "version": "3.7.6"
  }
 },
 "nbformat": 4,
 "nbformat_minor": 4
}
